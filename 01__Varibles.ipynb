{
  "nbformat": 4,
  "nbformat_minor": 0,
  "metadata": {
    "colab": {
      "provenance": [],
      "authorship_tag": "ABX9TyNTOIetxTuL1+SwbCtyDgyS",
      "include_colab_link": true
    },
    "kernelspec": {
      "name": "python3",
      "display_name": "Python 3"
    },
    "language_info": {
      "name": "python"
    }
  },
  "cells": [
    {
      "cell_type": "markdown",
      "metadata": {
        "id": "view-in-github",
        "colab_type": "text"
      },
      "source": [
        "<a href=\"https://colab.research.google.com/github/Jainamjain2601/python-notes-and-practice-/blob/main/01__Varibles.ipynb\" target=\"_parent\"><img src=\"https://colab.research.google.com/assets/colab-badge.svg\" alt=\"Open In Colab\"/></a>"
      ]
    },
    {
      "cell_type": "markdown",
      "source": [
        "# Variables\n",
        "\n",
        "\n"
      ],
      "metadata": {
        "id": "wjkZmDiWWIwm"
      }
    },
    {
      "cell_type": "markdown",
      "source": [
        "##Create a Variable"
      ],
      "metadata": {
        "id": "CHtfQ6adWsAI"
      }
    },
    {
      "cell_type": "markdown",
      "source": [
        "#Notes\n"
      ],
      "metadata": {
        "id": "YI7-BxLAWlBL"
      }
    },
    {
      "cell_type": "markdown",
      "source": [
        "*A variable is created the moment you assign a value to it.\n",
        "\n",
        "*Variables don't need to be declared with any type\n",
        "\n",
        "*Variables can change types even after they've been set\n",
        "\n",
        "The variable name goes on the left side of the assignment operator (=), and the value or expression you want to assign to that variable goes on the right side. It will be like this:\n",
        "\n",
        "variable_name = value\n"
      ],
      "metadata": {
        "id": "0A2amXgtXBQD"
      }
    },
    {
      "cell_type": "markdown",
      "source": [
        "##Examples"
      ],
      "metadata": {
        "id": "E0gu5h-5Xa29"
      }
    },
    {
      "cell_type": "code",
      "source": [
        "base_salary =100000"
      ],
      "metadata": {
        "id": "E7NE90o1XeZ8"
      },
      "execution_count": 2,
      "outputs": []
    },
    {
      "cell_type": "markdown",
      "source": [
        "You can also perform operations using variables.\n",
        "\n"
      ],
      "metadata": {
        "id": "tDEGq6fwXk0T"
      }
    },
    {
      "cell_type": "code",
      "source": [
        "bonus_rate= 0.1\n",
        "\n",
        "total_salary = base_salary * (1 + bonus_rate)\n"
      ],
      "metadata": {
        "id": "CvVM3uQZXwMZ"
      },
      "execution_count": 4,
      "outputs": []
    },
    {
      "cell_type": "markdown",
      "source": [
        "\n",
        "\n",
        "But how the heck do we see what the total salary is? We can either print the variable using the print() function or call it.\n"
      ],
      "metadata": {
        "id": "yyfsA46YYIUd"
      }
    },
    {
      "cell_type": "code",
      "source": [
        "#Calling a variable\n",
        "total_salary\n"
      ],
      "metadata": {
        "colab": {
          "base_uri": "https://localhost:8080/"
        },
        "id": "r5G_coHIYJ4r",
        "outputId": "b6c7f9bd-0b7b-40c2-efcd-11801d772a7f"
      },
      "execution_count": 5,
      "outputs": [
        {
          "output_type": "execute_result",
          "data": {
            "text/plain": [
              "110000.00000000001"
            ]
          },
          "metadata": {},
          "execution_count": 5
        }
      ]
    },
    {
      "cell_type": "markdown",
      "metadata": {
        "id": "Vp6cJuerYirn"
      },
      "source": [
        "## Variables aren't only numbers\n",
        "\n",
        "### Notes\n",
        "\n",
        "* We can store all different kinds of data in variables\n",
        "* **Note:** We'll cover more on types in a bit\n",
        "\n",
        "### Example\n",
        "* Create variables to store the following information about a job posting:\n",
        "  * Job ID (integer)\n",
        "  * Company Name (string)\n",
        "  * Salary Rate (string, but consider how you might store this as a numerical type for calculations)\n",
        "  * Job Work From Home (boolean)"
      ]
    }
  ]
}